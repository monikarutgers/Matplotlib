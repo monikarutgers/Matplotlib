{
 "cells": [
  {
   "cell_type": "markdown",
   "metadata": {},
   "source": [
    "# Heroes Of Pymoli Data Analysis\n",
    "Of the 1163 active players, the vast majority are male (84%). There also exists, a smaller, but notable proportion of female players (14%).\n",
    "Our peak age demographic falls between 20-24 (44.8%) with secondary groups falling between 15-19 (18.60%) and 25-29 (13.4%). \n",
    "\n",
    "\n",
    "\n",
    "\n",
    "# Summary Trends\n",
    "\n",
    "#The number of unique players is only 576 heance we do have repeat purchases for 183 unique items\n",
    "\n",
    "#Vast majority purchases are by males -approx (84%) followed by femalesapprox. (14%)\n",
    "\n",
    "#The best represented age bracket in the data is 20-24 years, accounting for around 45% of the total purchases. This age group also spends most money on total purchases"
   ]
  },
  {
   "cell_type": "markdown",
   "metadata": {},
   "source": [
    "### Note\n",
    "* Instructions have been included for each segment. You do not have to follow them exactly, but they are included to help you think through the steps."
   ]
  },
  {
   "cell_type": "code",
   "execution_count": 182,
   "metadata": {},
   "outputs": [
    {
     "data": {
      "text/html": [
       "<div>\n",
       "<style scoped>\n",
       "    .dataframe tbody tr th:only-of-type {\n",
       "        vertical-align: middle;\n",
       "    }\n",
       "\n",
       "    .dataframe tbody tr th {\n",
       "        vertical-align: top;\n",
       "    }\n",
       "\n",
       "    .dataframe thead th {\n",
       "        text-align: right;\n",
       "    }\n",
       "</style>\n",
       "<table border=\"1\" class=\"dataframe\">\n",
       "  <thead>\n",
       "    <tr style=\"text-align: right;\">\n",
       "      <th></th>\n",
       "      <th>Purchase ID</th>\n",
       "      <th>SN</th>\n",
       "      <th>Age</th>\n",
       "      <th>Gender</th>\n",
       "      <th>Item ID</th>\n",
       "      <th>Item Name</th>\n",
       "      <th>Price</th>\n",
       "    </tr>\n",
       "  </thead>\n",
       "  <tbody>\n",
       "    <tr>\n",
       "      <th>0</th>\n",
       "      <td>0</td>\n",
       "      <td>Lisim78</td>\n",
       "      <td>20</td>\n",
       "      <td>Male</td>\n",
       "      <td>108</td>\n",
       "      <td>Extraction, Quickblade Of Trembling Hands</td>\n",
       "      <td>3.53</td>\n",
       "    </tr>\n",
       "    <tr>\n",
       "      <th>1</th>\n",
       "      <td>1</td>\n",
       "      <td>Lisovynya38</td>\n",
       "      <td>40</td>\n",
       "      <td>Male</td>\n",
       "      <td>143</td>\n",
       "      <td>Frenzied Scimitar</td>\n",
       "      <td>1.56</td>\n",
       "    </tr>\n",
       "    <tr>\n",
       "      <th>2</th>\n",
       "      <td>2</td>\n",
       "      <td>Ithergue48</td>\n",
       "      <td>24</td>\n",
       "      <td>Male</td>\n",
       "      <td>92</td>\n",
       "      <td>Final Critic</td>\n",
       "      <td>4.88</td>\n",
       "    </tr>\n",
       "    <tr>\n",
       "      <th>3</th>\n",
       "      <td>3</td>\n",
       "      <td>Chamassasya86</td>\n",
       "      <td>24</td>\n",
       "      <td>Male</td>\n",
       "      <td>100</td>\n",
       "      <td>Blindscythe</td>\n",
       "      <td>3.27</td>\n",
       "    </tr>\n",
       "    <tr>\n",
       "      <th>4</th>\n",
       "      <td>4</td>\n",
       "      <td>Iskosia90</td>\n",
       "      <td>23</td>\n",
       "      <td>Male</td>\n",
       "      <td>131</td>\n",
       "      <td>Fury</td>\n",
       "      <td>1.44</td>\n",
       "    </tr>\n",
       "  </tbody>\n",
       "</table>\n",
       "</div>"
      ],
      "text/plain": [
       "   Purchase ID             SN  Age Gender  Item ID  \\\n",
       "0            0        Lisim78   20   Male      108   \n",
       "1            1    Lisovynya38   40   Male      143   \n",
       "2            2     Ithergue48   24   Male       92   \n",
       "3            3  Chamassasya86   24   Male      100   \n",
       "4            4      Iskosia90   23   Male      131   \n",
       "\n",
       "                                   Item Name  Price  \n",
       "0  Extraction, Quickblade Of Trembling Hands   3.53  \n",
       "1                          Frenzied Scimitar   1.56  \n",
       "2                               Final Critic   4.88  \n",
       "3                                Blindscythe   3.27  \n",
       "4                                       Fury   1.44  "
      ]
     },
     "execution_count": 182,
     "metadata": {},
     "output_type": "execute_result"
    }
   ],
   "source": [
    "# Dependencies and Setup\n",
    "import pandas as pd\n",
    "import numpy as np\n",
    "import os\n",
    "\n",
    "# File to Load (Remember to Change These)\n",
    "\n",
    "purchase_data = os.path.join('Resources', 'purchase_data.csv')\n",
    "\n",
    "# Read Purchasing File and store into Pandas DataFrame. Check top 5 rows with head method\n",
    "purchase_datadf = pd.read_csv(purchase_data)\n",
    "purchase_datadf.head()\n"
   ]
  },
  {
   "cell_type": "code",
   "execution_count": 183,
   "metadata": {},
   "outputs": [
    {
     "data": {
      "text/plain": [
       "Purchase ID    780\n",
       "SN             780\n",
       "Age            780\n",
       "Gender         780\n",
       "Item ID        780\n",
       "Item Name      780\n",
       "Price          780\n",
       "dtype: int64"
      ]
     },
     "execution_count": 183,
     "metadata": {},
     "output_type": "execute_result"
    }
   ],
   "source": [
    "purchase_datadf.count()"
   ]
  },
  {
   "cell_type": "markdown",
   "metadata": {},
   "source": [
    "## Player Count"
   ]
  },
  {
   "cell_type": "markdown",
   "metadata": {},
   "source": [
    "* Display the total number of players\n"
   ]
  },
  {
   "cell_type": "code",
   "execution_count": 184,
   "metadata": {},
   "outputs": [
    {
     "data": {
      "text/html": [
       "<div>\n",
       "<style scoped>\n",
       "    .dataframe tbody tr th:only-of-type {\n",
       "        vertical-align: middle;\n",
       "    }\n",
       "\n",
       "    .dataframe tbody tr th {\n",
       "        vertical-align: top;\n",
       "    }\n",
       "\n",
       "    .dataframe thead th {\n",
       "        text-align: right;\n",
       "    }\n",
       "</style>\n",
       "<table border=\"1\" class=\"dataframe\">\n",
       "  <thead>\n",
       "    <tr style=\"text-align: right;\">\n",
       "      <th></th>\n",
       "      <th>Unique Number of Players</th>\n",
       "    </tr>\n",
       "  </thead>\n",
       "  <tbody>\n",
       "    <tr>\n",
       "      <th>0</th>\n",
       "      <td>576</td>\n",
       "    </tr>\n",
       "  </tbody>\n",
       "</table>\n",
       "</div>"
      ],
      "text/plain": [
       "   Unique Number of Players\n",
       "0                       576"
      ]
     },
     "execution_count": 184,
     "metadata": {},
     "output_type": "execute_result"
    }
   ],
   "source": [
    "#Get number of players\n",
    "#SN is the player serial numbe in the Players in Heroes of Pymoli. Find its length to get the unique number of players in that column \n",
    "uniqueSN = purchase_datadf['SN'].unique() \n",
    "unique_players = len(uniqueSN) \n",
    "unique_players\n",
    "output_df = pd.DataFrame({\"Unique Number of Players\": [unique_players]})\n",
    "                       \n",
    "                      #\"(\"The unique number of players is  \" + str(unique_players) + \".\")\n",
    "output_df"
   ]
  },
  {
   "cell_type": "markdown",
   "metadata": {},
   "source": [
    "## Purchasing Analysis (Total)"
   ]
  },
  {
   "cell_type": "markdown",
   "metadata": {},
   "source": [
    "\n",
    "### Purchasing Analysis (Total)\n",
    "\n",
    "* Number of Unique Items\n",
    "* Average Purchase Price\n",
    "* Total Number of Purchases\n",
    "* Total Revenue"
   ]
  },
  {
   "cell_type": "code",
   "execution_count": 185,
   "metadata": {},
   "outputs": [
    {
     "data": {
      "text/html": [
       "<style  type=\"text/css\" >\n",
       "</style>  \n",
       "<table id=\"T_8c9e6c0c_43ab_11e9_84ba_802bf9497538\" > \n",
       "<thead>    <tr> \n",
       "        <th class=\"blank level0\" ></th> \n",
       "        <th class=\"col_heading level0 col0\" >No. of Unique Items</th> \n",
       "        <th class=\"col_heading level0 col1\" >Average Purchase Price</th> \n",
       "        <th class=\"col_heading level0 col2\" >No. of Purchases</th> \n",
       "        <th class=\"col_heading level0 col3\" >Total Revenue</th> \n",
       "    </tr></thead> \n",
       "<tbody>    <tr> \n",
       "        <th id=\"T_8c9e6c0c_43ab_11e9_84ba_802bf9497538level0_row0\" class=\"row_heading level0 row0\" >0</th> \n",
       "        <td id=\"T_8c9e6c0c_43ab_11e9_84ba_802bf9497538row0_col0\" class=\"data row0 col0\" >183</td> \n",
       "        <td id=\"T_8c9e6c0c_43ab_11e9_84ba_802bf9497538row0_col1\" class=\"data row0 col1\" >$3.05</td> \n",
       "        <td id=\"T_8c9e6c0c_43ab_11e9_84ba_802bf9497538row0_col2\" class=\"data row0 col2\" >780</td> \n",
       "        <td id=\"T_8c9e6c0c_43ab_11e9_84ba_802bf9497538row0_col3\" class=\"data row0 col3\" >$2379.77</td> \n",
       "    </tr></tbody> \n",
       "</table> "
      ],
      "text/plain": [
       "<pandas.io.formats.style.Styler at 0x27631dd19b0>"
      ]
     },
     "execution_count": 185,
     "metadata": {},
     "output_type": "execute_result"
    }
   ],
   "source": [
    "# Basic calculations for number of unique items, average price, total purcahses etc\n",
    "\n",
    "uniqueitems = purchase_datadf['Item ID'].nunique()\n",
    "avgprice = (purchase_datadf['Price'].sum()/purchase_datadf['Price'].count()).round(2)\n",
    "totalpurchases = purchase_datadf['Price'].count()\n",
    "totalrevenue = purchase_datadf[\"Price\"].sum()\n",
    "\n",
    "total_analysis_df = pd.DataFrame({\"No. of Unique Items\": [uniqueitems], \n",
    "                              \"Average Purchase Price\": [avgprice],\n",
    "                             \"No. of Purchases\": [totalpurchases],  \"Total Revenue\": [totalrevenue]}, \n",
    "                                 columns= [\"No. of Unique Items\", \"Average Purchase Price\", \n",
    "                                                                              \"No. of Purchases\", \"Total Revenue\"])\n",
    "# Formatting of the data        \n",
    "total_analysis_df.style.format({\"Average Purchase Price\": \"${:.2f}\", \"Total Revenue\": \"${:.2f}\"})"
   ]
  },
  {
   "cell_type": "markdown",
   "metadata": {},
   "source": [
    "## Gender Demographics"
   ]
  },
  {
   "cell_type": "markdown",
   "metadata": {},
   "source": [
    "### Gender Demographics\n",
    "\n",
    "* Percentage and Count of Male Players\n",
    "* Percentage and Count of Female Players\n",
    "* Percentage and Count of Other / Non-Disclosed\n"
   ]
  },
  {
   "cell_type": "code",
   "execution_count": 186,
   "metadata": {},
   "outputs": [
    {
     "data": {
      "text/html": [
       "<style  type=\"text/css\" >\n",
       "</style>  \n",
       "<table id=\"T_8e37c836_43ab_11e9_909e_802bf9497538\" > \n",
       "<thead>    <tr> \n",
       "        <th class=\"blank level0\" ></th> \n",
       "        <th class=\"col_heading level0 col0\" >Total Count</th> \n",
       "        <th class=\"col_heading level0 col1\" >Percentage of Players</th> \n",
       "    </tr>    <tr> \n",
       "        <th class=\"index_name level0\" >Gender</th> \n",
       "        <th class=\"blank\" ></th> \n",
       "        <th class=\"blank\" ></th> \n",
       "    </tr></thead> \n",
       "<tbody>    <tr> \n",
       "        <th id=\"T_8e37c836_43ab_11e9_909e_802bf9497538level0_row0\" class=\"row_heading level0 row0\" >Male</th> \n",
       "        <td id=\"T_8e37c836_43ab_11e9_909e_802bf9497538row0_col0\" class=\"data row0 col0\" >484</td> \n",
       "        <td id=\"T_8e37c836_43ab_11e9_909e_802bf9497538row0_col1\" class=\"data row0 col1\" >84.03%</td> \n",
       "    </tr>    <tr> \n",
       "        <th id=\"T_8e37c836_43ab_11e9_909e_802bf9497538level0_row1\" class=\"row_heading level0 row1\" >Female</th> \n",
       "        <td id=\"T_8e37c836_43ab_11e9_909e_802bf9497538row1_col0\" class=\"data row1 col0\" >81</td> \n",
       "        <td id=\"T_8e37c836_43ab_11e9_909e_802bf9497538row1_col1\" class=\"data row1 col1\" >14.06%</td> \n",
       "    </tr>    <tr> \n",
       "        <th id=\"T_8e37c836_43ab_11e9_909e_802bf9497538level0_row2\" class=\"row_heading level0 row2\" >Other / Non-Disclosed</th> \n",
       "        <td id=\"T_8e37c836_43ab_11e9_909e_802bf9497538row2_col0\" class=\"data row2 col0\" >11</td> \n",
       "        <td id=\"T_8e37c836_43ab_11e9_909e_802bf9497538row2_col1\" class=\"data row2 col1\" >1.91%</td> \n",
       "    </tr></tbody> \n",
       "</table> "
      ],
      "text/plain": [
       "<pandas.io.formats.style.Styler at 0x27631db3a20>"
      ]
     },
     "execution_count": 186,
     "metadata": {},
     "output_type": "execute_result"
    }
   ],
   "source": [
    "totalcount = purchase_datadf[\"SN\"].nunique()\n",
    "malecount = purchase_datadf[purchase_datadf[\"Gender\"] == \"Male\"][\"SN\"].nunique()\n",
    "femalecount = purchase_datadf[purchase_datadf[\"Gender\"] == \"Female\"][\"SN\"].nunique()\n",
    "othercount = totalcount - malecount - femalecount\n",
    "maleperc = ((malecount/totalcount)*100)\n",
    "femaleperc = ((femalecount/totalcount)*100)\n",
    "otherperc = ((othercount/totalcount)*100)\n",
    "\n",
    "gender_demo_df = pd.DataFrame({\"Gender\": [\"Male\", \"Female\", \"Other / Non-Disclosed\"], \n",
    "                                        \"Total Count\": [malecount, femalecount, othercount],\"Percentage of Players\":\n",
    "                               [maleperc, femaleperc, otherperc],}, columns = \n",
    "                                        [\"Gender\", \"Total Count\",\"Percentage of Players\" ])\n",
    "                                        \n",
    "gender_demo_final = gender_demo_df.set_index(\"Gender\")\n",
    "gender_demo_final.style.format({\"Percentage of Players\": \"{:.2f}%\"})"
   ]
  },
  {
   "cell_type": "markdown",
   "metadata": {},
   "source": [
    "\n",
    "## Purchasing Analysis (Gender)"
   ]
  },
  {
   "cell_type": "markdown",
   "metadata": {},
   "source": [
    "### Purchasing Analysis (Gender)\n",
    "\n",
    "* The below each broken by gender\n",
    "  * Purchase Count\n",
    "  * Average Purchase Price\n",
    "  * Total Purchase Value\n",
    "  * Average Purchase Total per Person by Gender\n"
   ]
  },
  {
   "cell_type": "code",
   "execution_count": 187,
   "metadata": {},
   "outputs": [
    {
     "data": {
      "text/html": [
       "<style  type=\"text/css\" >\n",
       "</style>  \n",
       "<table id=\"T_8f89aa76_43ab_11e9_8527_802bf9497538\" > \n",
       "<thead>    <tr> \n",
       "        <th class=\"blank level0\" ></th> \n",
       "        <th class=\"col_heading level0 col0\" >Purchase Count by Gender</th> \n",
       "        <th class=\"col_heading level0 col1\" >Average Purchase Price</th> \n",
       "        <th class=\"col_heading level0 col2\" >Total Purchase Value</th> \n",
       "        <th class=\"col_heading level0 col3\" >Average Purchase Total per Person by Gender</th> \n",
       "    </tr>    <tr> \n",
       "        <th class=\"index_name level0\" >Gender</th> \n",
       "        <th class=\"blank\" ></th> \n",
       "        <th class=\"blank\" ></th> \n",
       "        <th class=\"blank\" ></th> \n",
       "        <th class=\"blank\" ></th> \n",
       "    </tr></thead> \n",
       "<tbody>    <tr> \n",
       "        <th id=\"T_8f89aa76_43ab_11e9_8527_802bf9497538level0_row0\" class=\"row_heading level0 row0\" >Male</th> \n",
       "        <td id=\"T_8f89aa76_43ab_11e9_8527_802bf9497538row0_col0\" class=\"data row0 col0\" >652</td> \n",
       "        <td id=\"T_8f89aa76_43ab_11e9_8527_802bf9497538row0_col1\" class=\"data row0 col1\" >$3.02</td> \n",
       "        <td id=\"T_8f89aa76_43ab_11e9_8527_802bf9497538row0_col2\" class=\"data row0 col2\" >$1967.64</td> \n",
       "        <td id=\"T_8f89aa76_43ab_11e9_8527_802bf9497538row0_col3\" class=\"data row0 col3\" >$4.07</td> \n",
       "    </tr>    <tr> \n",
       "        <th id=\"T_8f89aa76_43ab_11e9_8527_802bf9497538level0_row1\" class=\"row_heading level0 row1\" >Female</th> \n",
       "        <td id=\"T_8f89aa76_43ab_11e9_8527_802bf9497538row1_col0\" class=\"data row1 col0\" >113</td> \n",
       "        <td id=\"T_8f89aa76_43ab_11e9_8527_802bf9497538row1_col1\" class=\"data row1 col1\" >$3.20</td> \n",
       "        <td id=\"T_8f89aa76_43ab_11e9_8527_802bf9497538row1_col2\" class=\"data row1 col2\" >$361.94</td> \n",
       "        <td id=\"T_8f89aa76_43ab_11e9_8527_802bf9497538row1_col3\" class=\"data row1 col3\" >$4.47</td> \n",
       "    </tr>    <tr> \n",
       "        <th id=\"T_8f89aa76_43ab_11e9_8527_802bf9497538level0_row2\" class=\"row_heading level0 row2\" >Other / Non-Disclosed</th> \n",
       "        <td id=\"T_8f89aa76_43ab_11e9_8527_802bf9497538row2_col0\" class=\"data row2 col0\" >15</td> \n",
       "        <td id=\"T_8f89aa76_43ab_11e9_8527_802bf9497538row2_col1\" class=\"data row2 col1\" >$3.35</td> \n",
       "        <td id=\"T_8f89aa76_43ab_11e9_8527_802bf9497538row2_col2\" class=\"data row2 col2\" >$50.19</td> \n",
       "        <td id=\"T_8f89aa76_43ab_11e9_8527_802bf9497538row2_col3\" class=\"data row2 col3\" >$4.56</td> \n",
       "    </tr></tbody> \n",
       "</table> "
      ],
      "text/plain": [
       "<pandas.io.formats.style.Styler at 0x27631dc9828>"
      ]
     },
     "execution_count": 187,
     "metadata": {},
     "output_type": "execute_result"
    }
   ],
   "source": [
    "malepurchases = purchase_datadf[purchase_datadf[\"Gender\"] == \"Male\"][\"Price\"].count()\n",
    "femalepurchases = purchase_datadf[purchase_datadf[\"Gender\"] == \"Female\"][\"Price\"].count()\n",
    "otherpurchases = totalpurchases - malepurchases - femalepurchases\n",
    "\n",
    "malepriceavg = purchase_datadf[purchase_datadf[\"Gender\"] == \"Male\"]['Price'].mean()\n",
    "femalepriceavg = purchase_datadf[purchase_datadf[\"Gender\"] == \"Female\"]['Price'].mean()\n",
    "otherpriceavg = purchase_datadf[purchase_datadf[\"Gender\"] == \"Other / Non-Disclosed\"]['Price'].mean()\n",
    "\n",
    "malepricetotal = purchase_datadf[purchase_datadf[\"Gender\"] == \"Male\"]['Price'].sum()\n",
    "femalepricetotal = purchase_datadf[purchase_datadf[\"Gender\"] == \"Female\"]['Price'].sum()\n",
    "otherpricetotal = purchase_datadf[purchase_datadf[\"Gender\"] == \"Other / Non-Disclosed\"]['Price'].sum()\n",
    "\n",
    "avgtotalmale = malepricetotal/malecount\n",
    "avgtotalfemale = femalepricetotal/femalecount\n",
    "avgtotalother = otherpricetotal/othercount\n",
    "\n",
    "gender_purchase_df = pd.DataFrame(\n",
    "{\"Gender\": [\"Male\", \"Female\", \"Other / Non-Disclosed\"],\n",
    " \"Purchase Count by Gender\": [malepurchases, femalepurchases, otherpurchases],\n",
    " \"Average Purchase Price\": [malepriceavg, femalepriceavg, otherpriceavg],\n",
    " \"Total Purchase Value\": [malepricetotal, femalepricetotal, otherpricetotal],\n",
    " \"Average Purchase Total per Person by Gender\": [avgtotalmale, avgtotalfemale, avgtotalother]},\n",
    "columns = [\"Gender\", \"Purchase Count by Gender\", \"Average Purchase Price\", \"Total Purchase Value\", \n",
    "           \"Average Purchase Total per Person by Gender\"])\n",
    "                                        \n",
    "gender_purchase_final = gender_purchase_df.set_index(\"Gender\")\n",
    "\n",
    "gender_purchase_final.style.format({\"Average Purchase Price\": \"${:.2f}\", \"Total Purchase Value\": \"${:.2f}\", \n",
    "                                    \"Average Purchase Total per Person by Gender\": \"${:.2f}\"})"
   ]
  },
  {
   "cell_type": "markdown",
   "metadata": {},
   "source": [
    "## Age Demographics"
   ]
  },
  {
   "cell_type": "markdown",
   "metadata": {},
   "source": [
    "\n",
    "### Age Demographics\n",
    "\n",
    "* The below each broken into bins of 4 years (i.e. &lt;10, 10-14, 15-19, etc.)\n",
    "  * Purchase Count\n",
    "  * Average Purchase Price\n",
    "  * Total Purchase Value\n",
    "  * Average Purchase Total per Person by Age Group"
   ]
  },
  {
   "cell_type": "code",
   "execution_count": 188,
   "metadata": {},
   "outputs": [
    {
     "data": {
      "text/html": [
       "<style  type=\"text/css\" >\n",
       "</style>  \n",
       "<table id=\"T_91688194_43ab_11e9_8b29_802bf9497538\" > \n",
       "<thead>    <tr> \n",
       "        <th class=\"blank level0\" ></th> \n",
       "        <th class=\"col_heading level0 col0\" >Total Count</th> \n",
       "        <th class=\"col_heading level0 col1\" >Percentage of Players</th> \n",
       "    </tr>    <tr> \n",
       "        <th class=\"index_name level0\" >Age</th> \n",
       "        <th class=\"blank\" ></th> \n",
       "        <th class=\"blank\" ></th> \n",
       "    </tr></thead> \n",
       "<tbody>    <tr> \n",
       "        <th id=\"T_91688194_43ab_11e9_8b29_802bf9497538level0_row0\" class=\"row_heading level0 row0\" ><10</th> \n",
       "        <td id=\"T_91688194_43ab_11e9_8b29_802bf9497538row0_col0\" class=\"data row0 col0\" >17</td> \n",
       "        <td id=\"T_91688194_43ab_11e9_8b29_802bf9497538row0_col1\" class=\"data row0 col1\" >2.95%</td> \n",
       "    </tr>    <tr> \n",
       "        <th id=\"T_91688194_43ab_11e9_8b29_802bf9497538level0_row1\" class=\"row_heading level0 row1\" >10-14</th> \n",
       "        <td id=\"T_91688194_43ab_11e9_8b29_802bf9497538row1_col0\" class=\"data row1 col0\" >22</td> \n",
       "        <td id=\"T_91688194_43ab_11e9_8b29_802bf9497538row1_col1\" class=\"data row1 col1\" >3.82%</td> \n",
       "    </tr>    <tr> \n",
       "        <th id=\"T_91688194_43ab_11e9_8b29_802bf9497538level0_row2\" class=\"row_heading level0 row2\" >15-19</th> \n",
       "        <td id=\"T_91688194_43ab_11e9_8b29_802bf9497538row2_col0\" class=\"data row2 col0\" >107</td> \n",
       "        <td id=\"T_91688194_43ab_11e9_8b29_802bf9497538row2_col1\" class=\"data row2 col1\" >18.58%</td> \n",
       "    </tr>    <tr> \n",
       "        <th id=\"T_91688194_43ab_11e9_8b29_802bf9497538level0_row3\" class=\"row_heading level0 row3\" >20-24</th> \n",
       "        <td id=\"T_91688194_43ab_11e9_8b29_802bf9497538row3_col0\" class=\"data row3 col0\" >258</td> \n",
       "        <td id=\"T_91688194_43ab_11e9_8b29_802bf9497538row3_col1\" class=\"data row3 col1\" >44.79%</td> \n",
       "    </tr>    <tr> \n",
       "        <th id=\"T_91688194_43ab_11e9_8b29_802bf9497538level0_row4\" class=\"row_heading level0 row4\" >25-29</th> \n",
       "        <td id=\"T_91688194_43ab_11e9_8b29_802bf9497538row4_col0\" class=\"data row4 col0\" >77</td> \n",
       "        <td id=\"T_91688194_43ab_11e9_8b29_802bf9497538row4_col1\" class=\"data row4 col1\" >13.37%</td> \n",
       "    </tr>    <tr> \n",
       "        <th id=\"T_91688194_43ab_11e9_8b29_802bf9497538level0_row5\" class=\"row_heading level0 row5\" >30-34</th> \n",
       "        <td id=\"T_91688194_43ab_11e9_8b29_802bf9497538row5_col0\" class=\"data row5 col0\" >52</td> \n",
       "        <td id=\"T_91688194_43ab_11e9_8b29_802bf9497538row5_col1\" class=\"data row5 col1\" >9.03%</td> \n",
       "    </tr>    <tr> \n",
       "        <th id=\"T_91688194_43ab_11e9_8b29_802bf9497538level0_row6\" class=\"row_heading level0 row6\" >35-39</th> \n",
       "        <td id=\"T_91688194_43ab_11e9_8b29_802bf9497538row6_col0\" class=\"data row6 col0\" >31</td> \n",
       "        <td id=\"T_91688194_43ab_11e9_8b29_802bf9497538row6_col1\" class=\"data row6 col1\" >5.38%</td> \n",
       "    </tr>    <tr> \n",
       "        <th id=\"T_91688194_43ab_11e9_8b29_802bf9497538level0_row7\" class=\"row_heading level0 row7\" >40-44</th> \n",
       "        <td id=\"T_91688194_43ab_11e9_8b29_802bf9497538row7_col0\" class=\"data row7 col0\" >11</td> \n",
       "        <td id=\"T_91688194_43ab_11e9_8b29_802bf9497538row7_col1\" class=\"data row7 col1\" >1.91%</td> \n",
       "    </tr>    <tr> \n",
       "        <th id=\"T_91688194_43ab_11e9_8b29_802bf9497538level0_row8\" class=\"row_heading level0 row8\" >45-49</th> \n",
       "        <td id=\"T_91688194_43ab_11e9_8b29_802bf9497538row8_col0\" class=\"data row8 col0\" >1</td> \n",
       "        <td id=\"T_91688194_43ab_11e9_8b29_802bf9497538row8_col1\" class=\"data row8 col1\" >0.17%</td> \n",
       "    </tr></tbody> \n",
       "</table> "
      ],
      "text/plain": [
       "<pandas.io.formats.style.Styler at 0x27631764ac8>"
      ]
     },
     "execution_count": 188,
     "metadata": {},
     "output_type": "execute_result"
    }
   ],
   "source": [
    "tenyears = purchase_datadf[purchase_datadf[\"Age\"] <10]\n",
    "loteens = purchase_datadf[(purchase_datadf[\"Age\"] >=10) & (purchase_datadf[\"Age\"] <=14)]\n",
    "hiteens = purchase_datadf[(purchase_datadf[\"Age\"] >=15) & (purchase_datadf[\"Age\"] <=19)]\n",
    "lotwent = purchase_datadf[(purchase_datadf[\"Age\"] >=20) & (purchase_datadf[\"Age\"] <=24)]\n",
    "hitwent = purchase_datadf[(purchase_datadf[\"Age\"] >=25) & (purchase_datadf[\"Age\"] <=29)]\n",
    "lothirt = purchase_datadf[(purchase_datadf[\"Age\"] >=30) & (purchase_datadf[\"Age\"] <=34)]\n",
    "hithirt = purchase_datadf[(purchase_datadf[\"Age\"] >=35) & (purchase_datadf[\"Age\"] <=39)]\n",
    "loforty = purchase_datadf[(purchase_datadf[\"Age\"] >=40) & (purchase_datadf[\"Age\"] <=44)]\n",
    "hiforty = purchase_datadf[(purchase_datadf[\"Age\"] >=45) & (purchase_datadf[\"Age\"] <=49)]\n",
    "\n",
    "age_demo_df = pd.DataFrame({\"Age\": [\"<10\", \"10-14\", \"15-19\", \"20-24\", \"25-29\", \"30-34\", \"35-39\", \"40-44\", \"45-49\"],\n",
    "                            \"Total Count\": [tenyears[\"SN\"].nunique(), loteens[\"SN\"].nunique(), \n",
    "                        hiteens[\"SN\"].nunique(), lotwent[\"SN\"].nunique(), hitwent[\"SN\"].nunique(), \n",
    "                        lothirt[\"SN\"].nunique(), hithirt[\"SN\"].nunique(), loforty[\"SN\"].nunique(),\n",
    "                        hiforty[\"SN\"].nunique()],\n",
    "                        \"Percentage of Players\": [(tenyears[\"SN\"].nunique()/totalcount)*100, \n",
    "                        (loteens[\"SN\"].nunique()/totalcount)*100, (hiteens[\"SN\"].nunique()/totalcount)*100, \n",
    "                        (lotwent[\"SN\"].nunique()/totalcount)*100, (hitwent[\"SN\"].nunique()/totalcount)*100,\n",
    "                        (lothirt[\"SN\"].nunique()/totalcount)*100, (hithirt[\"SN\"].nunique()/totalcount)*100,\n",
    "                        (loforty[\"SN\"].nunique()/totalcount)*100, (hiforty[\"SN\"].nunique()/totalcount)*100],\n",
    "                        \n",
    "                       })\n",
    "\n",
    "age_demo_final = age_demo_df.set_index(\"Age\")\n",
    "age_demo_final.style.format({\"Percentage of Players\": \"{:.2f}%\"})"
   ]
  },
  {
   "cell_type": "markdown",
   "metadata": {},
   "source": [
    "## Purchasing Analysis (Age)"
   ]
  },
  {
   "cell_type": "markdown",
   "metadata": {},
   "source": []
  },
  {
   "cell_type": "code",
   "execution_count": 189,
   "metadata": {},
   "outputs": [
    {
     "data": {
      "text/html": [
       "<style  type=\"text/css\" >\n",
       "</style>  \n",
       "<table id=\"T_93108112_43ab_11e9_87f7_802bf9497538\" > \n",
       "<thead>    <tr> \n",
       "        <th class=\"blank level0\" ></th> \n",
       "        <th class=\"col_heading level0 col0\" >Purchase Count</th> \n",
       "        <th class=\"col_heading level0 col1\" >Average Purchase Price</th> \n",
       "        <th class=\"col_heading level0 col2\" >Total Purchase Value</th> \n",
       "        <th class=\"col_heading level0 col3\" >Avg Total Purchase per person</th> \n",
       "    </tr>    <tr> \n",
       "        <th class=\"index_name level0\" >Age</th> \n",
       "        <th class=\"blank\" ></th> \n",
       "        <th class=\"blank\" ></th> \n",
       "        <th class=\"blank\" ></th> \n",
       "        <th class=\"blank\" ></th> \n",
       "    </tr></thead> \n",
       "<tbody>    <tr> \n",
       "        <th id=\"T_93108112_43ab_11e9_87f7_802bf9497538level0_row0\" class=\"row_heading level0 row0\" ><10</th> \n",
       "        <td id=\"T_93108112_43ab_11e9_87f7_802bf9497538row0_col0\" class=\"data row0 col0\" >23</td> \n",
       "        <td id=\"T_93108112_43ab_11e9_87f7_802bf9497538row0_col1\" class=\"data row0 col1\" >$3.35</td> \n",
       "        <td id=\"T_93108112_43ab_11e9_87f7_802bf9497538row0_col2\" class=\"data row0 col2\" >$77.13</td> \n",
       "        <td id=\"T_93108112_43ab_11e9_87f7_802bf9497538row0_col3\" class=\"data row0 col3\" >$4.54</td> \n",
       "    </tr>    <tr> \n",
       "        <th id=\"T_93108112_43ab_11e9_87f7_802bf9497538level0_row1\" class=\"row_heading level0 row1\" >10-14</th> \n",
       "        <td id=\"T_93108112_43ab_11e9_87f7_802bf9497538row1_col0\" class=\"data row1 col0\" >28</td> \n",
       "        <td id=\"T_93108112_43ab_11e9_87f7_802bf9497538row1_col1\" class=\"data row1 col1\" >$2.96</td> \n",
       "        <td id=\"T_93108112_43ab_11e9_87f7_802bf9497538row1_col2\" class=\"data row1 col2\" >$82.78</td> \n",
       "        <td id=\"T_93108112_43ab_11e9_87f7_802bf9497538row1_col3\" class=\"data row1 col3\" >$3.76</td> \n",
       "    </tr>    <tr> \n",
       "        <th id=\"T_93108112_43ab_11e9_87f7_802bf9497538level0_row2\" class=\"row_heading level0 row2\" >15-19</th> \n",
       "        <td id=\"T_93108112_43ab_11e9_87f7_802bf9497538row2_col0\" class=\"data row2 col0\" >136</td> \n",
       "        <td id=\"T_93108112_43ab_11e9_87f7_802bf9497538row2_col1\" class=\"data row2 col1\" >$3.04</td> \n",
       "        <td id=\"T_93108112_43ab_11e9_87f7_802bf9497538row2_col2\" class=\"data row2 col2\" >$412.89</td> \n",
       "        <td id=\"T_93108112_43ab_11e9_87f7_802bf9497538row2_col3\" class=\"data row2 col3\" >$3.86</td> \n",
       "    </tr>    <tr> \n",
       "        <th id=\"T_93108112_43ab_11e9_87f7_802bf9497538level0_row3\" class=\"row_heading level0 row3\" >20-24</th> \n",
       "        <td id=\"T_93108112_43ab_11e9_87f7_802bf9497538row3_col0\" class=\"data row3 col0\" >365</td> \n",
       "        <td id=\"T_93108112_43ab_11e9_87f7_802bf9497538row3_col1\" class=\"data row3 col1\" >$3.05</td> \n",
       "        <td id=\"T_93108112_43ab_11e9_87f7_802bf9497538row3_col2\" class=\"data row3 col2\" >$1114.06</td> \n",
       "        <td id=\"T_93108112_43ab_11e9_87f7_802bf9497538row3_col3\" class=\"data row3 col3\" >$4.32</td> \n",
       "    </tr>    <tr> \n",
       "        <th id=\"T_93108112_43ab_11e9_87f7_802bf9497538level0_row4\" class=\"row_heading level0 row4\" >25-29</th> \n",
       "        <td id=\"T_93108112_43ab_11e9_87f7_802bf9497538row4_col0\" class=\"data row4 col0\" >101</td> \n",
       "        <td id=\"T_93108112_43ab_11e9_87f7_802bf9497538row4_col1\" class=\"data row4 col1\" >$2.90</td> \n",
       "        <td id=\"T_93108112_43ab_11e9_87f7_802bf9497538row4_col2\" class=\"data row4 col2\" >$293.00</td> \n",
       "        <td id=\"T_93108112_43ab_11e9_87f7_802bf9497538row4_col3\" class=\"data row4 col3\" >$3.81</td> \n",
       "    </tr>    <tr> \n",
       "        <th id=\"T_93108112_43ab_11e9_87f7_802bf9497538level0_row5\" class=\"row_heading level0 row5\" >30-34</th> \n",
       "        <td id=\"T_93108112_43ab_11e9_87f7_802bf9497538row5_col0\" class=\"data row5 col0\" >73</td> \n",
       "        <td id=\"T_93108112_43ab_11e9_87f7_802bf9497538row5_col1\" class=\"data row5 col1\" >$2.93</td> \n",
       "        <td id=\"T_93108112_43ab_11e9_87f7_802bf9497538row5_col2\" class=\"data row5 col2\" >$214.00</td> \n",
       "        <td id=\"T_93108112_43ab_11e9_87f7_802bf9497538row5_col3\" class=\"data row5 col3\" >$4.12</td> \n",
       "    </tr>    <tr> \n",
       "        <th id=\"T_93108112_43ab_11e9_87f7_802bf9497538level0_row6\" class=\"row_heading level0 row6\" >35-39</th> \n",
       "        <td id=\"T_93108112_43ab_11e9_87f7_802bf9497538row6_col0\" class=\"data row6 col0\" >41</td> \n",
       "        <td id=\"T_93108112_43ab_11e9_87f7_802bf9497538row6_col1\" class=\"data row6 col1\" >$3.60</td> \n",
       "        <td id=\"T_93108112_43ab_11e9_87f7_802bf9497538row6_col2\" class=\"data row6 col2\" >$147.67</td> \n",
       "        <td id=\"T_93108112_43ab_11e9_87f7_802bf9497538row6_col3\" class=\"data row6 col3\" >$4.76</td> \n",
       "    </tr>    <tr> \n",
       "        <th id=\"T_93108112_43ab_11e9_87f7_802bf9497538level0_row7\" class=\"row_heading level0 row7\" >40-44</th> \n",
       "        <td id=\"T_93108112_43ab_11e9_87f7_802bf9497538row7_col0\" class=\"data row7 col0\" >12</td> \n",
       "        <td id=\"T_93108112_43ab_11e9_87f7_802bf9497538row7_col1\" class=\"data row7 col1\" >$3.04</td> \n",
       "        <td id=\"T_93108112_43ab_11e9_87f7_802bf9497538row7_col2\" class=\"data row7 col2\" >$36.54</td> \n",
       "        <td id=\"T_93108112_43ab_11e9_87f7_802bf9497538row7_col3\" class=\"data row7 col3\" >$3.32</td> \n",
       "    </tr>    <tr> \n",
       "        <th id=\"T_93108112_43ab_11e9_87f7_802bf9497538level0_row8\" class=\"row_heading level0 row8\" >45-49</th> \n",
       "        <td id=\"T_93108112_43ab_11e9_87f7_802bf9497538row8_col0\" class=\"data row8 col0\" >1</td> \n",
       "        <td id=\"T_93108112_43ab_11e9_87f7_802bf9497538row8_col1\" class=\"data row8 col1\" >$1.70</td> \n",
       "        <td id=\"T_93108112_43ab_11e9_87f7_802bf9497538row8_col2\" class=\"data row8 col2\" >$1.70</td> \n",
       "        <td id=\"T_93108112_43ab_11e9_87f7_802bf9497538row8_col3\" class=\"data row8 col3\" >$1.70</td> \n",
       "    </tr></tbody> \n",
       "</table> "
      ],
      "text/plain": [
       "<pandas.io.formats.style.Styler at 0x27631dab7f0>"
      ]
     },
     "execution_count": 189,
     "metadata": {},
     "output_type": "execute_result"
    }
   ],
   "source": [
    "age_purchasing_df = pd.DataFrame({\"Age\": [\"<10\", \"10-14\", \"15-19\", \"20-24\", \"25-29\", \"30-34\", \"35-39\", \"40-44\", \"45-49\"],\n",
    "                              \"Purchase Count\": [tenyears[\"Price\"].count(), loteens[\"Price\"].count(), hiteens[\"Price\"].count(),\n",
    "                                                 lotwent[\"Price\"].count(), hitwent[\"Price\"].count(), lothirt[\"Price\"].count(), \n",
    "                                                 hithirt[\"Price\"].count(), loforty[\"Price\"].count(), hiforty[\"Price\"].count()],\n",
    "                            \"Average Purchase Price\": [tenyears[\"Price\"].mean(), loteens[\"Price\"].mean(), \n",
    "                                hiteens[\"Price\"].mean(), lotwent[\"Price\"].mean(), hitwent[\"Price\"].mean(),\n",
    "                                lothirt[\"Price\"].mean(), hithirt[\"Price\"].mean(), loforty[\"Price\"].mean(),\n",
    "                                hiforty[\"Price\"].mean()], \n",
    "                              \"Total Purchase Value\": [tenyears[\"Price\"].sum(), loteens[\"Price\"].sum(), hiteens[\"Price\"].sum(), \n",
    "                               lotwent[\"Price\"].sum(), hitwent[\"Price\"].sum(), lothirt[\"Price\"].sum(), \n",
    "                                hithirt[\"Price\"].sum(), loforty[\"Price\"].sum(), hiforty[\"Price\"].sum()],\n",
    "                              \"Avg Total Purchase per person\": [tenyears[\"Price\"].sum()/tenyears['SN'].nunique(), \n",
    "                                loteens[\"Price\"].sum()/loteens['SN'].nunique(), hiteens[\"Price\"].sum()/hiteens['SN'].nunique(), \n",
    "                                lotwent[\"Price\"].sum()/lotwent['SN'].nunique(), hitwent[\"Price\"].sum()/hitwent['SN'].nunique(), \n",
    "                                lothirt[\"Price\"].sum()/lothirt['SN'].nunique(), hithirt[\"Price\"].sum()/hithirt['SN'].nunique(), \n",
    "                                loforty[\"Price\"].sum()/loforty['SN'].nunique(), hiforty[\"Price\"].sum()/hiforty['SN'].nunique()]}, \n",
    "                             columns = \n",
    "                            [\"Age\", \"Purchase Count\", \"Average Purchase Price\", \n",
    "                             \"Total Purchase Value\", \"Avg Total Purchase per person\"])\n",
    "\n",
    "agewisepurchase_final = age_purchasing_df.set_index(\"Age\")\n",
    "\n",
    "agewisepurchase_final.style.format({\"Average Purchase Price\": \"${:.2f}\", \n",
    "                                   \"Total Purchase Value\": \"${:.2f}\",\n",
    "                                    \"Avg Total Purchase per person\": \"${:.2f}\"}, \n",
    "                                )"
   ]
  },
  {
   "cell_type": "markdown",
   "metadata": {},
   "source": [
    "## Top Spenders"
   ]
  },
  {
   "cell_type": "markdown",
   "metadata": {},
   "source": [
    "### Top Spenders\n",
    "\n",
    "* Identify the the top 5 spenders in the game by total purchase value, then list (in a table):\n",
    "  * SN\n",
    "  * Purchase Count\n",
    "  * Average Purchase Price\n",
    "  * Total Purchase Value\n"
   ]
  },
  {
   "cell_type": "code",
   "execution_count": 190,
   "metadata": {},
   "outputs": [
    {
     "data": {
      "text/html": [
       "<style  type=\"text/css\" >\n",
       "</style>  \n",
       "<table id=\"T_94a1c8de_43ab_11e9_8fea_802bf9497538\" > \n",
       "<thead>    <tr> \n",
       "        <th class=\"blank level0\" ></th> \n",
       "        <th class=\"col_heading level0 col0\" >Purchase Count</th> \n",
       "        <th class=\"col_heading level0 col1\" >Average Purchase Price</th> \n",
       "        <th class=\"col_heading level0 col2\" >Total Purchase Value</th> \n",
       "    </tr>    <tr> \n",
       "        <th class=\"index_name level0\" >SN</th> \n",
       "        <th class=\"blank\" ></th> \n",
       "        <th class=\"blank\" ></th> \n",
       "        <th class=\"blank\" ></th> \n",
       "    </tr></thead> \n",
       "<tbody>    <tr> \n",
       "        <th id=\"T_94a1c8de_43ab_11e9_8fea_802bf9497538level0_row0\" class=\"row_heading level0 row0\" >Lisosia93</th> \n",
       "        <td id=\"T_94a1c8de_43ab_11e9_8fea_802bf9497538row0_col0\" class=\"data row0 col0\" >5</td> \n",
       "        <td id=\"T_94a1c8de_43ab_11e9_8fea_802bf9497538row0_col1\" class=\"data row0 col1\" >$3.79</td> \n",
       "        <td id=\"T_94a1c8de_43ab_11e9_8fea_802bf9497538row0_col2\" class=\"data row0 col2\" >$18.96</td> \n",
       "    </tr>    <tr> \n",
       "        <th id=\"T_94a1c8de_43ab_11e9_8fea_802bf9497538level0_row1\" class=\"row_heading level0 row1\" >Idastidru52</th> \n",
       "        <td id=\"T_94a1c8de_43ab_11e9_8fea_802bf9497538row1_col0\" class=\"data row1 col0\" >4</td> \n",
       "        <td id=\"T_94a1c8de_43ab_11e9_8fea_802bf9497538row1_col1\" class=\"data row1 col1\" >$3.86</td> \n",
       "        <td id=\"T_94a1c8de_43ab_11e9_8fea_802bf9497538row1_col2\" class=\"data row1 col2\" >$15.45</td> \n",
       "    </tr>    <tr> \n",
       "        <th id=\"T_94a1c8de_43ab_11e9_8fea_802bf9497538level0_row2\" class=\"row_heading level0 row2\" >Chamjask73</th> \n",
       "        <td id=\"T_94a1c8de_43ab_11e9_8fea_802bf9497538row2_col0\" class=\"data row2 col0\" >3</td> \n",
       "        <td id=\"T_94a1c8de_43ab_11e9_8fea_802bf9497538row2_col1\" class=\"data row2 col1\" >$4.61</td> \n",
       "        <td id=\"T_94a1c8de_43ab_11e9_8fea_802bf9497538row2_col2\" class=\"data row2 col2\" >$13.83</td> \n",
       "    </tr>    <tr> \n",
       "        <th id=\"T_94a1c8de_43ab_11e9_8fea_802bf9497538level0_row3\" class=\"row_heading level0 row3\" >Iral74</th> \n",
       "        <td id=\"T_94a1c8de_43ab_11e9_8fea_802bf9497538row3_col0\" class=\"data row3 col0\" >4</td> \n",
       "        <td id=\"T_94a1c8de_43ab_11e9_8fea_802bf9497538row3_col1\" class=\"data row3 col1\" >$3.40</td> \n",
       "        <td id=\"T_94a1c8de_43ab_11e9_8fea_802bf9497538row3_col2\" class=\"data row3 col2\" >$13.62</td> \n",
       "    </tr>    <tr> \n",
       "        <th id=\"T_94a1c8de_43ab_11e9_8fea_802bf9497538level0_row4\" class=\"row_heading level0 row4\" >Iskadarya95</th> \n",
       "        <td id=\"T_94a1c8de_43ab_11e9_8fea_802bf9497538row4_col0\" class=\"data row4 col0\" >3</td> \n",
       "        <td id=\"T_94a1c8de_43ab_11e9_8fea_802bf9497538row4_col1\" class=\"data row4 col1\" >$4.37</td> \n",
       "        <td id=\"T_94a1c8de_43ab_11e9_8fea_802bf9497538row4_col2\" class=\"data row4 col2\" >$13.10</td> \n",
       "    </tr></tbody> \n",
       "</table> "
      ],
      "text/plain": [
       "<pandas.io.formats.style.Styler at 0x27631dabcc0>"
      ]
     },
     "execution_count": 190,
     "metadata": {},
     "output_type": "execute_result"
    }
   ],
   "source": [
    "sn_total_purchase = purchase_datadf.groupby('SN')['Price'].sum().to_frame()\n",
    "sn_purchase_count = purchase_datadf.groupby('SN')['Price'].count().to_frame()\n",
    "sn_purchase_avg = purchase_datadf.groupby('SN')['Price'].mean().to_frame()\n",
    "\n",
    "sn_total_purchase.columns=[\"Total Purchase Value\"]\n",
    "join_one = sn_total_purchase.join(sn_purchase_count, how=\"left\")\n",
    "join_one.columns=[\"Total Purchase Value\", \"Purchase Count\"]\n",
    "\n",
    "join_two = join_one.join(sn_purchase_avg, how=\"inner\")\n",
    "join_two.columns=[\"Total Purchase Value\", \"Purchase Count\", \"Average Purchase Price\"]\n",
    "\n",
    "top_spenders_df = join_two[[\"Purchase Count\", \"Average Purchase Price\", \"Total Purchase Value\"]]\n",
    "top_spenders_final = top_spenders_df.sort_values('Total Purchase Value', ascending=False).head()\n",
    "top_spenders_final.style.format({\"Average Purchase Price\": \"${:.2f}\", \"Total Purchase Value\": \"${:.2f}\"})"
   ]
  },
  {
   "cell_type": "markdown",
   "metadata": {},
   "source": [
    "## Most Popular Items"
   ]
  },
  {
   "cell_type": "markdown",
   "metadata": {},
   "source": [
    "* Retrieve the Item ID, Item Name, and Item Price columns\n",
    "\n",
    "\n",
    "* Group by Item ID and Item Name. Perform calculations to obtain purchase count, item price, and total purchase value\n",
    "\n",
    "\n",
    "* Create a summary data frame to hold the results\n",
    "\n",
    "\n",
    "* Sort the purchase count column in descending order\n",
    "\n",
    "\n",
    "* Optional: give the displayed data cleaner formatting\n",
    "\n",
    "\n",
    "* Display a preview of the summary data frame\n",
    "### Most Popular Items\n",
    "\n",
    "* Identify the 5 most popular items by purchase count, then list (in a table):\n",
    "  * Item ID\n",
    "  * Item Name\n",
    "  * Purchase Count\n",
    "  * Item Price\n",
    "  * Total Purchase Value\n",
    "\n"
   ]
  },
  {
   "cell_type": "code",
   "execution_count": 194,
   "metadata": {},
   "outputs": [
    {
     "data": {
      "text/html": [
       "<style  type=\"text/css\" >\n",
       "</style>  \n",
       "<table id=\"T_cb24199a_43ab_11e9_828e_802bf9497538\" > \n",
       "<thead>    <tr> \n",
       "        <th class=\"blank\" ></th> \n",
       "        <th class=\"blank level0\" ></th> \n",
       "        <th class=\"col_heading level0 col0\" >Purchase Count</th> \n",
       "        <th class=\"col_heading level0 col1\" >Item Price</th> \n",
       "        <th class=\"col_heading level0 col2\" >Total Purchase Value</th> \n",
       "    </tr>    <tr> \n",
       "        <th class=\"index_name level0\" >Item ID</th> \n",
       "        <th class=\"index_name level1\" >Item Name</th> \n",
       "        <th class=\"blank\" ></th> \n",
       "        <th class=\"blank\" ></th> \n",
       "        <th class=\"blank\" ></th> \n",
       "    </tr></thead> \n",
       "<tbody>    <tr> \n",
       "        <th id=\"T_cb24199a_43ab_11e9_828e_802bf9497538level0_row0\" class=\"row_heading level0 row0\" >178</th> \n",
       "        <th id=\"T_cb24199a_43ab_11e9_828e_802bf9497538level1_row0\" class=\"row_heading level1 row0\" >Oathbreaker, Last Hope of the Breaking Storm</th> \n",
       "        <td id=\"T_cb24199a_43ab_11e9_828e_802bf9497538row0_col0\" class=\"data row0 col0\" >12</td> \n",
       "        <td id=\"T_cb24199a_43ab_11e9_828e_802bf9497538row0_col1\" class=\"data row0 col1\" >$4.23</td> \n",
       "        <td id=\"T_cb24199a_43ab_11e9_828e_802bf9497538row0_col2\" class=\"data row0 col2\" >$50.76</td> \n",
       "    </tr>    <tr> \n",
       "        <th id=\"T_cb24199a_43ab_11e9_828e_802bf9497538level0_row1\" class=\"row_heading level0 row1\" >145</th> \n",
       "        <th id=\"T_cb24199a_43ab_11e9_828e_802bf9497538level1_row1\" class=\"row_heading level1 row1\" >Fiery Glass Crusader</th> \n",
       "        <td id=\"T_cb24199a_43ab_11e9_828e_802bf9497538row1_col0\" class=\"data row1 col0\" >9</td> \n",
       "        <td id=\"T_cb24199a_43ab_11e9_828e_802bf9497538row1_col1\" class=\"data row1 col1\" >$4.58</td> \n",
       "        <td id=\"T_cb24199a_43ab_11e9_828e_802bf9497538row1_col2\" class=\"data row1 col2\" >$41.22</td> \n",
       "    </tr>    <tr> \n",
       "        <th id=\"T_cb24199a_43ab_11e9_828e_802bf9497538level0_row2\" class=\"row_heading level0 row2\" >108</th> \n",
       "        <th id=\"T_cb24199a_43ab_11e9_828e_802bf9497538level1_row2\" class=\"row_heading level1 row2\" >Extraction, Quickblade Of Trembling Hands</th> \n",
       "        <td id=\"T_cb24199a_43ab_11e9_828e_802bf9497538row2_col0\" class=\"data row2 col0\" >9</td> \n",
       "        <td id=\"T_cb24199a_43ab_11e9_828e_802bf9497538row2_col1\" class=\"data row2 col1\" >$3.53</td> \n",
       "        <td id=\"T_cb24199a_43ab_11e9_828e_802bf9497538row2_col2\" class=\"data row2 col2\" >$31.77</td> \n",
       "    </tr>    <tr> \n",
       "        <th id=\"T_cb24199a_43ab_11e9_828e_802bf9497538level0_row3\" class=\"row_heading level0 row3\" >82</th> \n",
       "        <th id=\"T_cb24199a_43ab_11e9_828e_802bf9497538level1_row3\" class=\"row_heading level1 row3\" >Nirvana</th> \n",
       "        <td id=\"T_cb24199a_43ab_11e9_828e_802bf9497538row3_col0\" class=\"data row3 col0\" >9</td> \n",
       "        <td id=\"T_cb24199a_43ab_11e9_828e_802bf9497538row3_col1\" class=\"data row3 col1\" >$4.90</td> \n",
       "        <td id=\"T_cb24199a_43ab_11e9_828e_802bf9497538row3_col2\" class=\"data row3 col2\" >$44.10</td> \n",
       "    </tr>    <tr> \n",
       "        <th id=\"T_cb24199a_43ab_11e9_828e_802bf9497538level0_row4\" class=\"row_heading level0 row4\" >19</th> \n",
       "        <th id=\"T_cb24199a_43ab_11e9_828e_802bf9497538level1_row4\" class=\"row_heading level1 row4\" >Pursuit, Cudgel of Necromancy</th> \n",
       "        <td id=\"T_cb24199a_43ab_11e9_828e_802bf9497538row4_col0\" class=\"data row4 col0\" >8</td> \n",
       "        <td id=\"T_cb24199a_43ab_11e9_828e_802bf9497538row4_col1\" class=\"data row4 col1\" >$1.02</td> \n",
       "        <td id=\"T_cb24199a_43ab_11e9_828e_802bf9497538row4_col2\" class=\"data row4 col2\" >$8.16</td> \n",
       "    </tr></tbody> \n",
       "</table> "
      ],
      "text/plain": [
       "<pandas.io.formats.style.Styler at 0x27631de3ac8>"
      ]
     },
     "execution_count": 194,
     "metadata": {},
     "output_type": "execute_result"
    }
   ],
   "source": [
    "# Makee new data frame of items related information \n",
    "items = purchase_datadf[[\"Item ID\", \"Item Name\", \"Price\"]]\n",
    "\n",
    "# Count the number of times an item has been purchased \n",
    "purchase_count_item = items.groupby([\"Item ID\",\"Item Name\"])[\"Price\"].count()\n",
    "\n",
    "# Calcualte the purchase value per item \n",
    "purchase_value = (items.groupby([\"Item ID\",\"Item Name\"])[\"Price\"].sum()) \n",
    "\n",
    "# Find individual item price\n",
    "item_price = purchase_value/purchase_count_item\n",
    "\n",
    "# Create data frame with obtained values\n",
    "most_popular_items = pd.DataFrame({\"Purchase Count\": purchase_count_item, \n",
    "                                   \"Item Price\": item_price,\n",
    "                                   \"Total Purchase Value\":purchase_value})\n",
    "\n",
    "# Sort in descending order to obtain top spender names and provide top 5 item names\n",
    "populardf = most_popular_items.sort_values([\"Purchase Count\"], ascending=False).head()\n",
    "\n",
    "# Format with currency style\n",
    "populardf.style.format({\"Item Price\":\"${:,.2f}\",\n",
    "                                \"Total Purchase Value\":\"${:,.2f}\"})\n"
   ]
  },
  {
   "cell_type": "markdown",
   "metadata": {},
   "source": [
    "## Most Profitable Items"
   ]
  },
  {
   "cell_type": "markdown",
   "metadata": {},
   "source": [
    "* Sort the above table by total purchase value in descending order\n",
    "\n",
    "\n",
    "* Optional: give the displayed data cleaner formatting\n",
    "\n",
    "\n",
    "* Display a preview of the data frame\n",
    "\n"
   ]
  },
  {
   "cell_type": "code",
   "execution_count": 195,
   "metadata": {
    "scrolled": true
   },
   "outputs": [
    {
     "data": {
      "text/html": [
       "<style  type=\"text/css\" >\n",
       "</style>  \n",
       "<table id=\"T_d545779c_43ab_11e9_8fd3_802bf9497538\" > \n",
       "<thead>    <tr> \n",
       "        <th class=\"blank\" ></th> \n",
       "        <th class=\"blank level0\" ></th> \n",
       "        <th class=\"col_heading level0 col0\" >Purchase Count</th> \n",
       "        <th class=\"col_heading level0 col1\" >Item Price</th> \n",
       "        <th class=\"col_heading level0 col2\" >Total Purchase Value</th> \n",
       "    </tr>    <tr> \n",
       "        <th class=\"index_name level0\" >Item ID</th> \n",
       "        <th class=\"index_name level1\" >Item Name</th> \n",
       "        <th class=\"blank\" ></th> \n",
       "        <th class=\"blank\" ></th> \n",
       "        <th class=\"blank\" ></th> \n",
       "    </tr></thead> \n",
       "<tbody>    <tr> \n",
       "        <th id=\"T_d545779c_43ab_11e9_8fd3_802bf9497538level0_row0\" class=\"row_heading level0 row0\" >178</th> \n",
       "        <th id=\"T_d545779c_43ab_11e9_8fd3_802bf9497538level1_row0\" class=\"row_heading level1 row0\" >Oathbreaker, Last Hope of the Breaking Storm</th> \n",
       "        <td id=\"T_d545779c_43ab_11e9_8fd3_802bf9497538row0_col0\" class=\"data row0 col0\" >12</td> \n",
       "        <td id=\"T_d545779c_43ab_11e9_8fd3_802bf9497538row0_col1\" class=\"data row0 col1\" >$4.23</td> \n",
       "        <td id=\"T_d545779c_43ab_11e9_8fd3_802bf9497538row0_col2\" class=\"data row0 col2\" >$50.76</td> \n",
       "    </tr>    <tr> \n",
       "        <th id=\"T_d545779c_43ab_11e9_8fd3_802bf9497538level0_row1\" class=\"row_heading level0 row1\" >82</th> \n",
       "        <th id=\"T_d545779c_43ab_11e9_8fd3_802bf9497538level1_row1\" class=\"row_heading level1 row1\" >Nirvana</th> \n",
       "        <td id=\"T_d545779c_43ab_11e9_8fd3_802bf9497538row1_col0\" class=\"data row1 col0\" >9</td> \n",
       "        <td id=\"T_d545779c_43ab_11e9_8fd3_802bf9497538row1_col1\" class=\"data row1 col1\" >$4.90</td> \n",
       "        <td id=\"T_d545779c_43ab_11e9_8fd3_802bf9497538row1_col2\" class=\"data row1 col2\" >$44.10</td> \n",
       "    </tr>    <tr> \n",
       "        <th id=\"T_d545779c_43ab_11e9_8fd3_802bf9497538level0_row2\" class=\"row_heading level0 row2\" >145</th> \n",
       "        <th id=\"T_d545779c_43ab_11e9_8fd3_802bf9497538level1_row2\" class=\"row_heading level1 row2\" >Fiery Glass Crusader</th> \n",
       "        <td id=\"T_d545779c_43ab_11e9_8fd3_802bf9497538row2_col0\" class=\"data row2 col0\" >9</td> \n",
       "        <td id=\"T_d545779c_43ab_11e9_8fd3_802bf9497538row2_col1\" class=\"data row2 col1\" >$4.58</td> \n",
       "        <td id=\"T_d545779c_43ab_11e9_8fd3_802bf9497538row2_col2\" class=\"data row2 col2\" >$41.22</td> \n",
       "    </tr>    <tr> \n",
       "        <th id=\"T_d545779c_43ab_11e9_8fd3_802bf9497538level0_row3\" class=\"row_heading level0 row3\" >92</th> \n",
       "        <th id=\"T_d545779c_43ab_11e9_8fd3_802bf9497538level1_row3\" class=\"row_heading level1 row3\" >Final Critic</th> \n",
       "        <td id=\"T_d545779c_43ab_11e9_8fd3_802bf9497538row3_col0\" class=\"data row3 col0\" >8</td> \n",
       "        <td id=\"T_d545779c_43ab_11e9_8fd3_802bf9497538row3_col1\" class=\"data row3 col1\" >$4.88</td> \n",
       "        <td id=\"T_d545779c_43ab_11e9_8fd3_802bf9497538row3_col2\" class=\"data row3 col2\" >$39.04</td> \n",
       "    </tr>    <tr> \n",
       "        <th id=\"T_d545779c_43ab_11e9_8fd3_802bf9497538level0_row4\" class=\"row_heading level0 row4\" >103</th> \n",
       "        <th id=\"T_d545779c_43ab_11e9_8fd3_802bf9497538level1_row4\" class=\"row_heading level1 row4\" >Singed Scalpel</th> \n",
       "        <td id=\"T_d545779c_43ab_11e9_8fd3_802bf9497538row4_col0\" class=\"data row4 col0\" >8</td> \n",
       "        <td id=\"T_d545779c_43ab_11e9_8fd3_802bf9497538row4_col1\" class=\"data row4 col1\" >$4.35</td> \n",
       "        <td id=\"T_d545779c_43ab_11e9_8fd3_802bf9497538row4_col2\" class=\"data row4 col2\" >$34.80</td> \n",
       "    </tr></tbody> \n",
       "</table> "
      ],
      "text/plain": [
       "<pandas.io.formats.style.Styler at 0x27631de3320>"
      ]
     },
     "execution_count": 195,
     "metadata": {},
     "output_type": "execute_result"
    }
   ],
   "source": [
    "#Display the Item Table (Sorted by Total Purchase Value)\n",
    "\n",
    "# Take the most_popular items data frame and change the sorting to find highest total purchase value\n",
    "populardf = most_popular_items.sort_values([\"Total Purchase Value\"],\n",
    "                                                   ascending=False).head()\n",
    "# Format with currency style\n",
    "populardf.style.format({\"Item Price\":\"${:,.2f}\",\n",
    "                                \"Total Purchase Value\":\"${:,.2f}\"})"
   ]
  },
  {
   "cell_type": "code",
   "execution_count": null,
   "metadata": {},
   "outputs": [],
   "source": []
  },
  {
   "cell_type": "code",
   "execution_count": null,
   "metadata": {},
   "outputs": [],
   "source": []
  },
  {
   "cell_type": "code",
   "execution_count": null,
   "metadata": {},
   "outputs": [],
   "source": []
  }
 ],
 "metadata": {
  "anaconda-cloud": {},
  "kernel_info": {
   "name": "python3"
  },
  "kernelspec": {
   "display_name": "Python 3",
   "language": "python",
   "name": "python3"
  },
  "language_info": {
   "codemirror_mode": {
    "name": "ipython",
    "version": 3
   },
   "file_extension": ".py",
   "mimetype": "text/x-python",
   "name": "python",
   "nbconvert_exporter": "python",
   "pygments_lexer": "ipython3",
   "version": "3.7.1"
  },
  "nteract": {
   "version": "0.2.0"
  }
 },
 "nbformat": 4,
 "nbformat_minor": 2
}
